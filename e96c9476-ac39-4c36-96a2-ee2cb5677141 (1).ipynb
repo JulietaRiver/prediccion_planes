{
 "cells": [
  {
   "cell_type": "markdown",
   "metadata": {},
   "source": [
    "introducción: Con el siguiente Data Frame, se creará el modelo más adecuado para el  comportamiento de los suscriptores que ya se han cambiado a los planes nuevos.\n"
   ]
  },
  {
   "cell_type": "code",
   "execution_count": 1,
   "metadata": {
    "scrolled": true,
    "trusted": true
   },
   "outputs": [
    {
     "name": "stdout",
     "output_type": "stream",
     "text": [
      "   calls  minutes  messages   mb_used  is_ultra\n",
      "0   40.0   311.90      83.0  19915.42         0\n",
      "1   85.0   516.75      56.0  22696.96         0\n",
      "2   77.0   467.66      86.0  21060.45         0\n",
      "3  106.0   745.53      81.0   8437.39         1\n",
      "4   66.0   418.74       1.0  14502.75         0\n",
      "<class 'pandas.core.frame.DataFrame'>\n",
      "RangeIndex: 3214 entries, 0 to 3213\n",
      "Data columns (total 5 columns):\n",
      " #   Column    Non-Null Count  Dtype  \n",
      "---  ------    --------------  -----  \n",
      " 0   calls     3214 non-null   float64\n",
      " 1   minutes   3214 non-null   float64\n",
      " 2   messages  3214 non-null   float64\n",
      " 3   mb_used   3214 non-null   float64\n",
      " 4   is_ultra  3214 non-null   int64  \n",
      "dtypes: float64(4), int64(1)\n",
      "memory usage: 125.7 KB\n",
      "None\n",
      "             calls      minutes     messages       mb_used     is_ultra\n",
      "count  3214.000000  3214.000000  3214.000000   3214.000000  3214.000000\n",
      "mean     63.038892   438.208787    38.281269  17207.673836     0.306472\n",
      "std      33.236368   234.569872    36.148326   7570.968246     0.461100\n",
      "min       0.000000     0.000000     0.000000      0.000000     0.000000\n",
      "25%      40.000000   274.575000     9.000000  12491.902500     0.000000\n",
      "50%      62.000000   430.600000    30.000000  16943.235000     0.000000\n",
      "75%      82.000000   571.927500    57.000000  21424.700000     1.000000\n",
      "max     244.000000  1632.060000   224.000000  49745.730000     1.000000\n"
     ]
    }
   ],
   "source": [
    "#abrir los archivos del data frame\n",
    "import pandas as pd\n",
    "\n",
    "from sklearn.model_selection import train_test_split\n",
    "\n",
    "# Cargar el dataset\n",
    "data = pd.read_csv('/datasets/users_behavior.csv')\n",
    "\n",
    "# Mostrar las primeras filas del dataset\n",
    "print(data.head())\n",
    "\n",
    "# Información básica sobre el dataset\n",
    "print(data.info())\n",
    "\n",
    "# Describir el dataset para entender mejor las variables\n",
    "print(data.describe())"
   ]
  },
  {
   "cell_type": "code",
   "execution_count": 2,
   "metadata": {
    "scrolled": true,
    "trusted": true
   },
   "outputs": [
    {
     "name": "stdout",
     "output_type": "stream",
     "text": [
      "<class 'pandas.core.frame.DataFrame'>\n",
      "RangeIndex: 3214 entries, 0 to 3213\n",
      "Data columns (total 5 columns):\n",
      " #   Column    Non-Null Count  Dtype  \n",
      "---  ------    --------------  -----  \n",
      " 0   calls     3214 non-null   float64\n",
      " 1   minutes   3214 non-null   float64\n",
      " 2   messages  3214 non-null   float64\n",
      " 3   mb_used   3214 non-null   float64\n",
      " 4   is_ultra  3214 non-null   int64  \n",
      "dtypes: float64(4), int64(1)\n",
      "memory usage: 125.7 KB\n"
     ]
    }
   ],
   "source": [
    "#se hace el análisis de la base\n",
    "data.info()"
   ]
  },
  {
   "cell_type": "code",
   "execution_count": 3,
   "metadata": {
    "trusted": true
   },
   "outputs": [
    {
     "data": {
      "text/html": [
       "<div>\n",
       "<style scoped>\n",
       "    .dataframe tbody tr th:only-of-type {\n",
       "        vertical-align: middle;\n",
       "    }\n",
       "\n",
       "    .dataframe tbody tr th {\n",
       "        vertical-align: top;\n",
       "    }\n",
       "\n",
       "    .dataframe thead th {\n",
       "        text-align: right;\n",
       "    }\n",
       "</style>\n",
       "<table border=\"1\" class=\"dataframe\">\n",
       "  <thead>\n",
       "    <tr style=\"text-align: right;\">\n",
       "      <th></th>\n",
       "      <th>calls</th>\n",
       "      <th>minutes</th>\n",
       "      <th>messages</th>\n",
       "      <th>mb_used</th>\n",
       "      <th>is_ultra</th>\n",
       "    </tr>\n",
       "  </thead>\n",
       "  <tbody>\n",
       "    <tr>\n",
       "      <th>0</th>\n",
       "      <td>40.0</td>\n",
       "      <td>311.90</td>\n",
       "      <td>83.0</td>\n",
       "      <td>19915.42</td>\n",
       "      <td>0</td>\n",
       "    </tr>\n",
       "    <tr>\n",
       "      <th>1</th>\n",
       "      <td>85.0</td>\n",
       "      <td>516.75</td>\n",
       "      <td>56.0</td>\n",
       "      <td>22696.96</td>\n",
       "      <td>0</td>\n",
       "    </tr>\n",
       "    <tr>\n",
       "      <th>2</th>\n",
       "      <td>77.0</td>\n",
       "      <td>467.66</td>\n",
       "      <td>86.0</td>\n",
       "      <td>21060.45</td>\n",
       "      <td>0</td>\n",
       "    </tr>\n",
       "    <tr>\n",
       "      <th>3</th>\n",
       "      <td>106.0</td>\n",
       "      <td>745.53</td>\n",
       "      <td>81.0</td>\n",
       "      <td>8437.39</td>\n",
       "      <td>1</td>\n",
       "    </tr>\n",
       "    <tr>\n",
       "      <th>4</th>\n",
       "      <td>66.0</td>\n",
       "      <td>418.74</td>\n",
       "      <td>1.0</td>\n",
       "      <td>14502.75</td>\n",
       "      <td>0</td>\n",
       "    </tr>\n",
       "    <tr>\n",
       "      <th>...</th>\n",
       "      <td>...</td>\n",
       "      <td>...</td>\n",
       "      <td>...</td>\n",
       "      <td>...</td>\n",
       "      <td>...</td>\n",
       "    </tr>\n",
       "    <tr>\n",
       "      <th>3209</th>\n",
       "      <td>122.0</td>\n",
       "      <td>910.98</td>\n",
       "      <td>20.0</td>\n",
       "      <td>35124.90</td>\n",
       "      <td>1</td>\n",
       "    </tr>\n",
       "    <tr>\n",
       "      <th>3210</th>\n",
       "      <td>25.0</td>\n",
       "      <td>190.36</td>\n",
       "      <td>0.0</td>\n",
       "      <td>3275.61</td>\n",
       "      <td>0</td>\n",
       "    </tr>\n",
       "    <tr>\n",
       "      <th>3211</th>\n",
       "      <td>97.0</td>\n",
       "      <td>634.44</td>\n",
       "      <td>70.0</td>\n",
       "      <td>13974.06</td>\n",
       "      <td>0</td>\n",
       "    </tr>\n",
       "    <tr>\n",
       "      <th>3212</th>\n",
       "      <td>64.0</td>\n",
       "      <td>462.32</td>\n",
       "      <td>90.0</td>\n",
       "      <td>31239.78</td>\n",
       "      <td>0</td>\n",
       "    </tr>\n",
       "    <tr>\n",
       "      <th>3213</th>\n",
       "      <td>80.0</td>\n",
       "      <td>566.09</td>\n",
       "      <td>6.0</td>\n",
       "      <td>29480.52</td>\n",
       "      <td>1</td>\n",
       "    </tr>\n",
       "  </tbody>\n",
       "</table>\n",
       "<p>3214 rows × 5 columns</p>\n",
       "</div>"
      ],
      "text/plain": [
       "      calls  minutes  messages   mb_used  is_ultra\n",
       "0      40.0   311.90      83.0  19915.42         0\n",
       "1      85.0   516.75      56.0  22696.96         0\n",
       "2      77.0   467.66      86.0  21060.45         0\n",
       "3     106.0   745.53      81.0   8437.39         1\n",
       "4      66.0   418.74       1.0  14502.75         0\n",
       "...     ...      ...       ...       ...       ...\n",
       "3209  122.0   910.98      20.0  35124.90         1\n",
       "3210   25.0   190.36       0.0   3275.61         0\n",
       "3211   97.0   634.44      70.0  13974.06         0\n",
       "3212   64.0   462.32      90.0  31239.78         0\n",
       "3213   80.0   566.09       6.0  29480.52         1\n",
       "\n",
       "[3214 rows x 5 columns]"
      ]
     },
     "execution_count": 3,
     "metadata": {},
     "output_type": "execute_result"
    }
   ],
   "source": [
    "data"
   ]
  },
  {
   "cell_type": "code",
   "execution_count": 4,
   "metadata": {
    "scrolled": true,
    "trusted": true
   },
   "outputs": [
    {
     "name": "stdout",
     "output_type": "stream",
     "text": [
      "calls       0\n",
      "minutes     0\n",
      "messages    0\n",
      "mb_used     0\n",
      "is_ultra    0\n",
      "dtype: int64\n"
     ]
    }
   ],
   "source": [
    "#contar los valores ausentes\n",
    "print(data.isna().sum())"
   ]
  },
  {
   "cell_type": "code",
   "execution_count": 5,
   "metadata": {
    "trusted": true
   },
   "outputs": [
    {
     "name": "stdout",
     "output_type": "stream",
     "text": [
      "Número de duplicados en 'data': 0\n"
     ]
    }
   ],
   "source": [
    "#contar valores duplicados\n",
    "duplicados = data.duplicated().sum()\n",
    "\n",
    "print(f\"Número de duplicados en 'data': {duplicados}\")\n"
   ]
  },
  {
   "cell_type": "markdown",
   "metadata": {},
   "source": [
    "no se pudo hallar errores en la base de datos, con ello se prepara para aplicar a un modelo de machine learning"
   ]
  },
  {
   "cell_type": "code",
   "execution_count": 6,
   "metadata": {
    "trusted": true
   },
   "outputs": [
    {
     "name": "stdout",
     "output_type": "stream",
     "text": [
      "Tamaño del conjunto de entrenamiento: (2249, 5)\n",
      "Tamaño del conjunto de validación: (482, 5)\n",
      "Tamaño del conjunto de prueba: (483, 5)\n"
     ]
    }
   ],
   "source": [
    "#se segmenta los datos con train_test_split\n",
    "\n",
    "\n",
    "# Dividir el dataset\n",
    "train_data, temp_data = train_test_split(data, test_size=0.3, random_state=42)\n",
    "validation_data, test_data = train_test_split(temp_data, test_size=0.5, random_state=42)\n",
    "\n",
    "print(f'Tamaño del conjunto de entrenamiento: {train_data.shape}')\n",
    "print(f'Tamaño del conjunto de validación: {validation_data.shape}')\n",
    "print(f'Tamaño del conjunto de prueba: {test_data.shape}')"
   ]
  },
  {
   "cell_type": "code",
   "execution_count": 7,
   "metadata": {
    "trusted": true
   },
   "outputs": [
    {
     "name": "stdout",
     "output_type": "stream",
     "text": [
      "max_depth = 1 : 0.7574626865671642\n",
      "max_depth = 2 : 0.7686567164179104\n",
      "max_depth = 3 : 0.7736318407960199\n",
      "max_depth = 4 : 0.7723880597014925\n",
      "max_depth = 5 : 0.7736318407960199\n",
      "Mejor max_depth: {'max_depth': 4}\n",
      "Mejor precisión: 0.7609958506224066\n"
     ]
    }
   ],
   "source": [
    "#se ajusta el hiperparámetro con max_depth\n",
    "import pandas as pd\n",
    "from sklearn.tree import DecisionTreeClassifier\n",
    "from sklearn.metrics import accuracy_score\n",
    "from sklearn.model_selection import train_test_split, GridSearchCV\n",
    "\n",
    "# Dividir los datos\n",
    "df_train, df_valid = train_test_split(data, test_size=0.25, random_state=12345)\n",
    "\n",
    "# Definir características y objetivo\n",
    "features_train = df_train.drop(['is_ultra', 'mb_used'], axis=1)\n",
    "target_train = df_train['is_ultra']\n",
    "features_valid = df_valid.drop(['is_ultra', 'mb_used'], axis=1)\n",
    "target_valid = df_valid['is_ultra']  # Corrige esto\n",
    "\n",
    "# Ajuste manual de hiperparámetros\n",
    "for depth in range(1, 6):\n",
    "    model = DecisionTreeClassifier(random_state=12345, max_depth=depth)\n",
    "    model.fit(features_train, target_train)\n",
    "    predictions_valid = model.predict(features_valid)\n",
    "    print('max_depth =', depth, ': ', end='')\n",
    "    print(accuracy_score(target_valid, predictions_valid))\n",
    "\n",
    "# Ajuste automático de hiperparámetros usando GridSearchCV\n",
    "param_grid = {'max_depth': range(1, 6)}\n",
    "grid_search = GridSearchCV(DecisionTreeClassifier(random_state=12345), param_grid, cv=5)\n",
    "grid_search.fit(features_train, target_train)\n",
    "\n",
    "# Imprimir el mejor parámetro y su puntuación\n",
    "print('Mejor max_depth:', grid_search.best_params_)\n",
    "print('Mejor precisión:', grid_search.best_score_)\n",
    "\n",
    "\n",
    " "
   ]
  },
  {
   "cell_type": "code",
   "execution_count": 8,
   "metadata": {
    "scrolled": true,
    "trusted": true
   },
   "outputs": [
    {
     "name": "stdout",
     "output_type": "stream",
     "text": [
      "Precisión en validación: 0.7661691542288557\n",
      "Precisión en prueba: 0.7786069651741293\n",
      "Reporte de clasificación:\n",
      "               precision    recall  f1-score   support\n",
      "\n",
      "           0       0.77      0.99      0.86       283\n",
      "           1       0.89      0.29      0.43       119\n",
      "\n",
      "    accuracy                           0.78       402\n",
      "   macro avg       0.83      0.64      0.65       402\n",
      "weighted avg       0.80      0.78      0.74       402\n",
      "\n"
     ]
    }
   ],
   "source": [
    "#calidad del modelo:\n",
    "\n",
    "import pandas as pd\n",
    "from sklearn.tree import DecisionTreeClassifier\n",
    "from sklearn.metrics import accuracy_score, classification_report\n",
    "from sklearn.model_selection import train_test_split, GridSearchCV\n",
    "\n",
    "\n",
    "# Dividir en entrenamiento (75%) y el resto (25%)\n",
    "df_train, df_temp = train_test_split(data, test_size=0.25, random_state=12345)\n",
    "\n",
    "# Dividir el resto en validación (12.5%) y prueba (12.5%)\n",
    "df_valid, df_test = train_test_split(df_temp, test_size=0.5, random_state=12345)\n",
    "\n",
    "# Definir características y objetivo para entrenamiento y validación\n",
    "features_train = df_train.drop(['is_ultra', 'mb_used'], axis=1)\n",
    "target_train = df_train['is_ultra']\n",
    "features_valid = df_valid.drop(['is_ultra', 'mb_used'], axis=1)\n",
    "target_valid = df_valid['is_ultra']\n",
    "\n",
    "# Ajuste automático de hiperparámetros usando GridSearchCV\n",
    "param_grid = {'max_depth': range(1, 6)}\n",
    "grid_search = GridSearchCV(DecisionTreeClassifier(random_state=12345), param_grid, cv=5)\n",
    "grid_search.fit(features_train, target_train)\n",
    "\n",
    "# Mejor modelo\n",
    "best_model = grid_search.best_estimator_\n",
    "\n",
    "# Evaluar en el conjunto de validación\n",
    "valid_predictions = best_model.predict(features_valid)\n",
    "print('Precisión en validación:', accuracy_score(target_valid, valid_predictions))\n",
    "\n",
    "# Preparar conjunto de prueba\n",
    "features_test = df_test.drop(['is_ultra', 'mb_used'], axis=1)\n",
    "target_test = df_test['is_ultra']\n",
    "\n",
    "# Evaluar en el conjunto de prueba\n",
    "test_predictions = best_model.predict(features_test)\n",
    "\n",
    "# Calcular y mostrar métricas de calidad\n",
    "print('Precisión en prueba:', accuracy_score(target_test, test_predictions))\n",
    "print('Reporte de clasificación:\\n', classification_report(target_test, test_predictions))"
   ]
  },
  {
   "cell_type": "markdown",
   "metadata": {},
   "source": [
    "se puede hallar que se mejoró la calidad del modelo y se mejoró a un 0.76 con la precisión de validación y de prueba a un 0.77"
   ]
  },
  {
   "cell_type": "code",
   "execution_count": 9,
   "metadata": {
    "trusted": true
   },
   "outputs": [
    {
     "name": "stdout",
     "output_type": "stream",
     "text": [
      "\n",
      "Precisión en validación: 0.7662\n",
      "\n",
      "Precisión en prueba: 0.7786\n",
      "Reporte de clasificación en prueba:\n",
      "               precision    recall  f1-score   support\n",
      "\n",
      "           0       0.77      0.99      0.86       283\n",
      "           1       0.89      0.29      0.43       119\n",
      "\n",
      "    accuracy                           0.78       402\n",
      "   macro avg       0.83      0.64      0.65       402\n",
      "weighted avg       0.80      0.78      0.74       402\n",
      "\n",
      "\n",
      "Diferencia de precisión: -0.0124\n"
     ]
    }
   ],
   "source": [
    "#prueba de cordura del modelo:\n",
    "\n",
    "# Evaluar en el conjunto de validación\n",
    "valid_predictions = best_model.predict(features_valid)\n",
    "valid_accuracy = accuracy_score(target_valid, valid_predictions)\n",
    "print(f'\\nPrecisión en validación: {valid_accuracy:.4f}')\n",
    "\n",
    "# Preparar conjunto de prueba\n",
    "features_test = df_test.drop(['is_ultra', 'mb_used'], axis=1)\n",
    "target_test = df_test['is_ultra']\n",
    "\n",
    "# Evaluar en el conjunto de prueba\n",
    "test_predictions = best_model.predict(features_test)\n",
    "test_accuracy = accuracy_score(target_test, test_predictions)\n",
    "\n",
    "# Calcular y mostrar métricas de calidad\n",
    "print(f'\\nPrecisión en prueba: {test_accuracy:.4f}')\n",
    "print('Reporte de clasificación en prueba:\\n', classification_report(target_test, test_predictions))\n",
    "\n",
    "# Comparación de rendimiento\n",
    "print(f'\\nDiferencia de precisión: {valid_accuracy - test_accuracy:.4f}')"
   ]
  }
 ],
 "metadata": {
  "ExecuteTimeLog": [
   {
    "duration": 744,
    "start_time": "2024-10-20T05:14:40.285Z"
   },
   {
    "duration": 14,
    "start_time": "2024-10-20T05:14:42.206Z"
   },
   {
    "duration": 570,
    "start_time": "2024-10-20T05:21:46.659Z"
   },
   {
    "duration": 59,
    "start_time": "2024-10-20T05:21:55.087Z"
   },
   {
    "duration": 57,
    "start_time": "2024-10-20T05:22:03.894Z"
   },
   {
    "duration": 26,
    "start_time": "2024-10-20T05:22:11.355Z"
   },
   {
    "duration": 6,
    "start_time": "2024-10-20T05:22:17.160Z"
   },
   {
    "duration": 624,
    "start_time": "2024-10-20T05:45:26.855Z"
   },
   {
    "duration": 1889,
    "start_time": "2024-10-20T05:58:07.623Z"
   },
   {
    "duration": 238,
    "start_time": "2024-10-20T06:15:33.706Z"
   },
   {
    "duration": 36,
    "start_time": "2024-10-20T06:15:42.648Z"
   },
   {
    "duration": 14,
    "start_time": "2024-10-20T06:15:48.539Z"
   },
   {
    "duration": 16,
    "start_time": "2024-10-20T06:22:58.408Z"
   },
   {
    "duration": 13,
    "start_time": "2024-10-20T06:23:05.864Z"
   },
   {
    "duration": 345,
    "start_time": "2024-10-25T03:18:19.752Z"
   },
   {
    "duration": 9,
    "start_time": "2024-10-25T03:18:20.100Z"
   },
   {
    "duration": 486,
    "start_time": "2024-10-25T03:18:20.110Z"
   },
   {
    "duration": 2227,
    "start_time": "2024-10-25T03:18:20.598Z"
   },
   {
    "duration": 0,
    "start_time": "2024-10-25T03:18:22.827Z"
   },
   {
    "duration": 0,
    "start_time": "2024-10-25T03:18:22.828Z"
   },
   {
    "duration": 13,
    "start_time": "2024-10-25T03:18:55.884Z"
   },
   {
    "duration": 16,
    "start_time": "2024-10-25T03:19:11.392Z"
   },
   {
    "duration": 4,
    "start_time": "2024-10-25T03:19:51.451Z"
   },
   {
    "duration": 6,
    "start_time": "2024-10-25T03:30:49.293Z"
   },
   {
    "duration": 19,
    "start_time": "2024-10-25T03:37:22.321Z"
   },
   {
    "duration": 846,
    "start_time": "2024-10-25T17:17:06.033Z"
   },
   {
    "duration": 9,
    "start_time": "2024-10-25T17:17:06.881Z"
   },
   {
    "duration": 12,
    "start_time": "2024-10-25T17:17:06.891Z"
   },
   {
    "duration": 3,
    "start_time": "2024-10-25T17:17:06.905Z"
   },
   {
    "duration": 13,
    "start_time": "2024-10-25T17:17:06.911Z"
   },
   {
    "duration": 6,
    "start_time": "2024-10-25T17:17:06.925Z"
   },
   {
    "duration": 2307,
    "start_time": "2024-10-25T17:17:06.932Z"
   },
   {
    "duration": 0,
    "start_time": "2024-10-25T17:17:09.241Z"
   },
   {
    "duration": 0,
    "start_time": "2024-10-25T17:17:09.243Z"
   },
   {
    "duration": 4,
    "start_time": "2024-10-25T17:17:52.822Z"
   },
   {
    "duration": 768,
    "start_time": "2024-10-28T03:37:45.203Z"
   },
   {
    "duration": 8,
    "start_time": "2024-10-28T03:37:45.973Z"
   },
   {
    "duration": 14,
    "start_time": "2024-10-28T03:37:45.982Z"
   },
   {
    "duration": 4,
    "start_time": "2024-10-28T03:37:45.998Z"
   },
   {
    "duration": 5,
    "start_time": "2024-10-28T03:37:46.003Z"
   },
   {
    "duration": 6,
    "start_time": "2024-10-28T03:37:46.009Z"
   },
   {
    "duration": 245,
    "start_time": "2024-10-28T03:37:46.042Z"
   },
   {
    "duration": 0,
    "start_time": "2024-10-28T03:37:46.289Z"
   },
   {
    "duration": 0,
    "start_time": "2024-10-28T03:37:46.290Z"
   },
   {
    "duration": 19,
    "start_time": "2024-10-28T03:40:30.567Z"
   },
   {
    "duration": 118,
    "start_time": "2024-10-28T03:42:07.156Z"
   },
   {
    "duration": 132,
    "start_time": "2024-10-28T03:45:02.564Z"
   },
   {
    "duration": 675,
    "start_time": "2024-10-28T04:11:08.014Z"
   },
   {
    "duration": 18,
    "start_time": "2024-10-28T04:16:30.100Z"
   },
   {
    "duration": 19,
    "start_time": "2024-10-28T04:16:54.896Z"
   },
   {
    "duration": 18,
    "start_time": "2024-10-28T04:17:37.541Z"
   },
   {
    "duration": 118,
    "start_time": "2024-10-28T04:20:08.018Z"
   },
   {
    "duration": 30,
    "start_time": "2024-10-28T04:23:40.143Z"
   },
   {
    "duration": 8,
    "start_time": "2024-10-28T04:24:08.130Z"
   },
   {
    "duration": 11,
    "start_time": "2024-10-28T04:25:20.125Z"
   },
   {
    "duration": 820,
    "start_time": "2024-10-28T14:08:59.143Z"
   },
   {
    "duration": 8,
    "start_time": "2024-10-28T14:08:59.966Z"
   },
   {
    "duration": 14,
    "start_time": "2024-10-28T14:08:59.976Z"
   },
   {
    "duration": 5,
    "start_time": "2024-10-28T14:08:59.992Z"
   },
   {
    "duration": 14,
    "start_time": "2024-10-28T14:08:59.998Z"
   },
   {
    "duration": 6,
    "start_time": "2024-10-28T14:09:00.014Z"
   },
   {
    "duration": 176,
    "start_time": "2024-10-28T14:09:00.022Z"
   },
   {
    "duration": 130,
    "start_time": "2024-10-28T14:09:00.200Z"
   },
   {
    "duration": 10,
    "start_time": "2024-10-28T14:09:00.332Z"
   }
  ],
  "kernelspec": {
   "display_name": "Python 3 (ipykernel)",
   "language": "python",
   "name": "python3"
  },
  "language_info": {
   "codemirror_mode": {
    "name": "ipython",
    "version": 3
   },
   "file_extension": ".py",
   "mimetype": "text/x-python",
   "name": "python",
   "nbconvert_exporter": "python",
   "pygments_lexer": "ipython3",
   "version": "3.9.19"
  },
  "toc": {
   "base_numbering": 1,
   "nav_menu": {},
   "number_sections": true,
   "sideBar": true,
   "skip_h1_title": true,
   "title_cell": "Table of Contents",
   "title_sidebar": "Contents",
   "toc_cell": false,
   "toc_position": {},
   "toc_section_display": true,
   "toc_window_display": false
  }
 },
 "nbformat": 4,
 "nbformat_minor": 2
}
